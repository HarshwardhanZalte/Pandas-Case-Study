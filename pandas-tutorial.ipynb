{
 "cells": [
  {
   "cell_type": "markdown",
   "id": "2433cbff",
   "metadata": {},
   "source": [
    "Importing Libraries"
   ]
  },
  {
   "cell_type": "code",
   "execution_count": 10,
   "id": "39f6ce30",
   "metadata": {},
   "outputs": [],
   "source": [
    "import pandas as pd\n",
    "import numpy as np\n",
    "import matplotlib.pyplot as plt"
   ]
  },
  {
   "cell_type": "markdown",
   "id": "c4351e3d",
   "metadata": {},
   "source": [
    "Loading Data"
   ]
  },
  {
   "cell_type": "code",
   "execution_count": 11,
   "id": "ce02ded1",
   "metadata": {},
   "outputs": [],
   "source": [
    "df = pd.read_csv('data.csv', parse_dates=['Date'], na_values=['', ' '])"
   ]
  },
  {
   "cell_type": "markdown",
   "id": "cbad5d0b",
   "metadata": {},
   "source": [
    "pd.read_csv(): Reads CSV file into DataFrame\n",
    "    parse_dates=['Date']: Automatically converts 'Date' column to datetime format\n",
    "    na_values=['', ' ']: Treats empty strings and spaces as missing values"
   ]
  },
  {
   "cell_type": "markdown",
   "id": "28ad20b4",
   "metadata": {},
   "source": [
    "Data Explorating"
   ]
  },
  {
   "cell_type": "code",
   "execution_count": 12,
   "id": "4c0ac3cb",
   "metadata": {},
   "outputs": [
    {
     "name": "stdout",
     "output_type": "stream",
     "text": [
      "First 5 entries:\n"
     ]
    },
    {
     "data": {
      "text/html": [
       "<div>\n",
       "<style scoped>\n",
       "    .dataframe tbody tr th:only-of-type {\n",
       "        vertical-align: middle;\n",
       "    }\n",
       "\n",
       "    .dataframe tbody tr th {\n",
       "        vertical-align: top;\n",
       "    }\n",
       "\n",
       "    .dataframe thead th {\n",
       "        text-align: right;\n",
       "    }\n",
       "</style>\n",
       "<table border=\"1\" class=\"dataframe\">\n",
       "  <thead>\n",
       "    <tr style=\"text-align: right;\">\n",
       "      <th></th>\n",
       "      <th>Duration</th>\n",
       "      <th>Date</th>\n",
       "      <th>Pulse</th>\n",
       "      <th>Maxpulse</th>\n",
       "      <th>Calories</th>\n",
       "    </tr>\n",
       "  </thead>\n",
       "  <tbody>\n",
       "    <tr>\n",
       "      <th>0</th>\n",
       "      <td>60</td>\n",
       "      <td>'2020/12/01'</td>\n",
       "      <td>110</td>\n",
       "      <td>130</td>\n",
       "      <td>409.1</td>\n",
       "    </tr>\n",
       "    <tr>\n",
       "      <th>1</th>\n",
       "      <td>60</td>\n",
       "      <td>'2020/12/02'</td>\n",
       "      <td>117</td>\n",
       "      <td>145</td>\n",
       "      <td>479.0</td>\n",
       "    </tr>\n",
       "    <tr>\n",
       "      <th>2</th>\n",
       "      <td>60</td>\n",
       "      <td>'2020/12/03'</td>\n",
       "      <td>103</td>\n",
       "      <td>135</td>\n",
       "      <td>340.0</td>\n",
       "    </tr>\n",
       "    <tr>\n",
       "      <th>3</th>\n",
       "      <td>45</td>\n",
       "      <td>'2020/12/04'</td>\n",
       "      <td>109</td>\n",
       "      <td>175</td>\n",
       "      <td>282.4</td>\n",
       "    </tr>\n",
       "    <tr>\n",
       "      <th>4</th>\n",
       "      <td>45</td>\n",
       "      <td>'2020/12/05'</td>\n",
       "      <td>117</td>\n",
       "      <td>148</td>\n",
       "      <td>406.0</td>\n",
       "    </tr>\n",
       "  </tbody>\n",
       "</table>\n",
       "</div>"
      ],
      "text/plain": [
       "   Duration          Date  Pulse  Maxpulse  Calories\n",
       "0        60  '2020/12/01'    110       130     409.1\n",
       "1        60  '2020/12/02'    117       145     479.0\n",
       "2        60  '2020/12/03'    103       135     340.0\n",
       "3        45  '2020/12/04'    109       175     282.4\n",
       "4        45  '2020/12/05'    117       148     406.0"
      ]
     },
     "metadata": {},
     "output_type": "display_data"
    },
    {
     "name": "stdout",
     "output_type": "stream",
     "text": [
      "\n",
      "Dataset structure:\n",
      "<class 'pandas.core.frame.DataFrame'>\n",
      "RangeIndex: 32 entries, 0 to 31\n",
      "Data columns (total 5 columns):\n",
      " #   Column    Non-Null Count  Dtype  \n",
      "---  ------    --------------  -----  \n",
      " 0   Duration  32 non-null     int64  \n",
      " 1   Date      31 non-null     object \n",
      " 2   Pulse     32 non-null     int64  \n",
      " 3   Maxpulse  32 non-null     int64  \n",
      " 4   Calories  30 non-null     float64\n",
      "dtypes: float64(1), int64(3), object(1)\n",
      "memory usage: 1.4+ KB\n"
     ]
    },
    {
     "data": {
      "text/plain": [
       "None"
      ]
     },
     "metadata": {},
     "output_type": "display_data"
    },
    {
     "name": "stdout",
     "output_type": "stream",
     "text": [
      "\n",
      "Statistical summary:\n"
     ]
    },
    {
     "data": {
      "text/html": [
       "<div>\n",
       "<style scoped>\n",
       "    .dataframe tbody tr th:only-of-type {\n",
       "        vertical-align: middle;\n",
       "    }\n",
       "\n",
       "    .dataframe tbody tr th {\n",
       "        vertical-align: top;\n",
       "    }\n",
       "\n",
       "    .dataframe thead th {\n",
       "        text-align: right;\n",
       "    }\n",
       "</style>\n",
       "<table border=\"1\" class=\"dataframe\">\n",
       "  <thead>\n",
       "    <tr style=\"text-align: right;\">\n",
       "      <th></th>\n",
       "      <th>Duration</th>\n",
       "      <th>Pulse</th>\n",
       "      <th>Maxpulse</th>\n",
       "      <th>Calories</th>\n",
       "    </tr>\n",
       "  </thead>\n",
       "  <tbody>\n",
       "    <tr>\n",
       "      <th>count</th>\n",
       "      <td>32.000000</td>\n",
       "      <td>32.000000</td>\n",
       "      <td>32.000000</td>\n",
       "      <td>30.000000</td>\n",
       "    </tr>\n",
       "    <tr>\n",
       "      <th>mean</th>\n",
       "      <td>68.437500</td>\n",
       "      <td>103.500000</td>\n",
       "      <td>128.500000</td>\n",
       "      <td>304.680000</td>\n",
       "    </tr>\n",
       "    <tr>\n",
       "      <th>std</th>\n",
       "      <td>70.039591</td>\n",
       "      <td>7.832933</td>\n",
       "      <td>12.998759</td>\n",
       "      <td>66.003779</td>\n",
       "    </tr>\n",
       "    <tr>\n",
       "      <th>min</th>\n",
       "      <td>30.000000</td>\n",
       "      <td>90.000000</td>\n",
       "      <td>101.000000</td>\n",
       "      <td>195.100000</td>\n",
       "    </tr>\n",
       "    <tr>\n",
       "      <th>25%</th>\n",
       "      <td>60.000000</td>\n",
       "      <td>100.000000</td>\n",
       "      <td>120.000000</td>\n",
       "      <td>250.700000</td>\n",
       "    </tr>\n",
       "    <tr>\n",
       "      <th>50%</th>\n",
       "      <td>60.000000</td>\n",
       "      <td>102.500000</td>\n",
       "      <td>127.500000</td>\n",
       "      <td>291.200000</td>\n",
       "    </tr>\n",
       "    <tr>\n",
       "      <th>75%</th>\n",
       "      <td>60.000000</td>\n",
       "      <td>106.500000</td>\n",
       "      <td>132.250000</td>\n",
       "      <td>343.975000</td>\n",
       "    </tr>\n",
       "    <tr>\n",
       "      <th>max</th>\n",
       "      <td>450.000000</td>\n",
       "      <td>130.000000</td>\n",
       "      <td>175.000000</td>\n",
       "      <td>479.000000</td>\n",
       "    </tr>\n",
       "  </tbody>\n",
       "</table>\n",
       "</div>"
      ],
      "text/plain": [
       "         Duration       Pulse    Maxpulse    Calories\n",
       "count   32.000000   32.000000   32.000000   30.000000\n",
       "mean    68.437500  103.500000  128.500000  304.680000\n",
       "std     70.039591    7.832933   12.998759   66.003779\n",
       "min     30.000000   90.000000  101.000000  195.100000\n",
       "25%     60.000000  100.000000  120.000000  250.700000\n",
       "50%     60.000000  102.500000  127.500000  291.200000\n",
       "75%     60.000000  106.500000  132.250000  343.975000\n",
       "max    450.000000  130.000000  175.000000  479.000000"
      ]
     },
     "metadata": {},
     "output_type": "display_data"
    },
    {
     "name": "stdout",
     "output_type": "stream",
     "text": [
      "\n",
      "Missing values count:\n"
     ]
    },
    {
     "data": {
      "text/plain": [
       "Duration    0\n",
       "Date        1\n",
       "Pulse       0\n",
       "Maxpulse    0\n",
       "Calories    2\n",
       "dtype: int64"
      ]
     },
     "metadata": {},
     "output_type": "display_data"
    }
   ],
   "source": [
    "# Initial inspection\n",
    "print(\"First 5 entries:\")\n",
    "display(df.head())\n",
    "\n",
    "# Dataset structure\n",
    "print(\"\\nDataset structure:\")\n",
    "display(df.info())\n",
    "\n",
    "# Statistical summary\n",
    "print(\"\\nStatistical summary:\")\n",
    "display(df.describe())\n",
    "\n",
    "# Missing values check\n",
    "print(\"\\nMissing values count:\")\n",
    "display(df.isnull().sum())"
   ]
  },
  {
   "cell_type": "markdown",
   "id": "a7d01840",
   "metadata": {},
   "source": [
    "head(): Shows first 5 rows\n",
    "\n",
    "info(): Displays column data types and non-null counts\n",
    "\n",
    "describe(): Generates statistical summary for numerical columns\n",
    "\n",
    "isnull().sum(): Counts missing values per column\n",
    "\n",
    "display(): Pretty-prints DataFrames in Jupyter"
   ]
  },
  {
   "cell_type": "markdown",
   "id": "07bd7d70",
   "metadata": {},
   "source": [
    "Data Cleaning"
   ]
  },
  {
   "cell_type": "code",
   "execution_count": 13,
   "id": "fdcb4c88",
   "metadata": {},
   "outputs": [
    {
     "name": "stderr",
     "output_type": "stream",
     "text": [
      "C:\\Users\\Asus\\AppData\\Local\\Temp\\ipykernel_12336\\2102628514.py:5: SettingWithCopyWarning: \n",
      "A value is trying to be set on a copy of a slice from a DataFrame.\n",
      "Try using .loc[row_indexer,col_indexer] = value instead\n",
      "\n",
      "See the caveats in the documentation: https://pandas.pydata.org/pandas-docs/stable/user_guide/indexing.html#returning-a-view-versus-a-copy\n",
      "  df_clean['Calories'] = df_clean['Calories'].fillna(df_clean['Calories'].median())\n"
     ]
    }
   ],
   "source": [
    "# Remove duplicates\n",
    "df_clean = df.drop_duplicates()\n",
    "\n",
    "# Handle missing values\n",
    "df_clean['Calories'] = df_clean['Calories'].fillna(df_clean['Calories'].median())\n",
    "df_clean = df_clean.dropna(subset=['Date'])\n",
    "\n",
    "# Fix data inconsistencies\n",
    "mask = df_clean['Pulse'] > df_clean['Maxpulse']\n",
    "df_clean.loc[mask, ['Pulse', 'Maxpulse']] = df_clean.loc[mask, ['Maxpulse', 'Pulse']].values\n",
    "\n",
    "# Fix date formatting\n",
    "df_clean['Date'] = pd.to_datetime(df_clean['Date'], errors='coerce')"
   ]
  },
  {
   "cell_type": "markdown",
   "id": "ce987289",
   "metadata": {},
   "source": [
    "drop_duplicates(): Removes duplicate rows\n",
    "\n",
    "fillna(): Fills missing values (using median here)\n",
    "\n",
    "dropna(): Removes rows with missing values in specified columns\n",
    "\n",
    "pd.to_datetime(): Ensures consistent date format\n",
    "\n",
    "loc[]: Label-based indexing for conditional fixes"
   ]
  },
  {
   "cell_type": "markdown",
   "id": "56f0675f",
   "metadata": {},
   "source": [
    "Data Selection"
   ]
  },
  {
   "cell_type": "code",
   "execution_count": 18,
   "id": "eebd34f5",
   "metadata": {},
   "outputs": [],
   "source": [
    "# Filter rows\n",
    "high_duration = df_clean[df_clean['Duration'] > 60]\n",
    "\n",
    "# Select columns\n",
    "selected_data = df_clean[['Date', 'Duration', 'Calories']]\n",
    "\n",
    "# Conditional selection\n",
    "high_calories = df_clean.query('Calories > 300')"
   ]
  },
  {
   "cell_type": "markdown",
   "id": "2c989879",
   "metadata": {},
   "source": [
    "Boolean indexing (df[df['col'] > value]): Filters rows by condition\n",
    "\n",
    "query(): SQL-like filtering syntax\n",
    "\n",
    "Column selection: df[['col1', 'col2']]"
   ]
  },
  {
   "cell_type": "markdown",
   "id": "fff52859",
   "metadata": {},
   "source": [
    "Data Sorting"
   ]
  },
  {
   "cell_type": "code",
   "execution_count": 15,
   "id": "6fb764ca",
   "metadata": {},
   "outputs": [],
   "source": [
    "# Sort by date\n",
    "df_sorted = df_clean.sort_values('Date')\n",
    "\n",
    "# Sort by multiple columns\n",
    "df_multi_sorted = df_clean.sort_values(['Duration', 'Calories'], ascending=[True, False])"
   ]
  },
  {
   "cell_type": "markdown",
   "id": "acf75f94",
   "metadata": {},
   "source": [
    "sort_values(): Sorts DataFrame by column values\n",
    "\n",
    "    ascending: Controls sort direction (True=ascending)\n",
    "\n",
    "    Accepts list for multi-column sorting"
   ]
  },
  {
   "cell_type": "markdown",
   "id": "823ddcbc",
   "metadata": {},
   "source": [
    "Data Grouping"
   ]
  },
  {
   "cell_type": "code",
   "execution_count": 16,
   "id": "2be80150",
   "metadata": {},
   "outputs": [],
   "source": [
    "# Group by duration\n",
    "duration_groups = df_clean.groupby('Duration').agg({\n",
    "    'Calories': 'mean',\n",
    "    'Pulse': ['min', 'max']\n",
    "})\n",
    "\n",
    "# Weekly aggregation\n",
    "weekly_calories = df_clean.groupby(pd.Grouper(key='Date', freq='W'))['Calories'].sum()"
   ]
  },
  {
   "cell_type": "markdown",
   "id": "67ab483b",
   "metadata": {},
   "source": [
    "groupby(): Groups data by specified column\n",
    "\n",
    "agg(): Performs multiple aggregations\n",
    "\n",
    "pd.Grouper(): Time-based grouping (weekly here)\n",
    "\n",
    "sum()/mean(): Aggregation functions"
   ]
  },
  {
   "cell_type": "markdown",
   "id": "a4ce3efc",
   "metadata": {},
   "source": [
    "Data Visualization"
   ]
  },
  {
   "cell_type": "code",
   "execution_count": 17,
   "id": "f1d88a0e",
   "metadata": {},
   "outputs": [
    {
     "data": {
      "text/plain": [
       "<Figure size 1200x600 with 0 Axes>"
      ]
     },
     "metadata": {},
     "output_type": "display_data"
    },
    {
     "data": {
      "image/png": "[encoded data removed]",
      "text/plain": [
       "<Figure size 640x480 with 1 Axes>"
      ]
     },
     "metadata": {},
     "output_type": "display_data"
    },
    {
     "data": {
      "image/png": "[encoded data removed]",
      "text/plain": [
       "<Figure size 640x480 with 1 Axes>"
      ]
     },
     "metadata": {},
     "output_type": "display_data"
    },
    {
     "data": {
      "image/png": "[encoded data removed]",
      "text/plain": [
       "<Figure size 640x480 with 1 Axes>"
      ]
     },
     "metadata": {},
     "output_type": "display_data"
    }
   ],
   "source": [
    "# Line plot\n",
    "plt.figure(figsize=(12,6))\n",
    "df_clean.plot(x='Date', y='Calories', kind='line', title='Calories Over Time')\n",
    "plt.ylabel('Calories')\n",
    "plt.show()\n",
    "\n",
    "# Histogram\n",
    "df_clean['Duration'].plot(kind='hist', bins=10, title='Workout Duration Distribution')\n",
    "plt.xlabel('Minutes')\n",
    "plt.show()\n",
    "\n",
    "# Scatter plot\n",
    "df_clean.plot(x='Pulse', y='Calories', kind='scatter', alpha=0.5)\n",
    "plt.title('Pulse vs Calories Burned')\n",
    "plt.show()"
   ]
  },
  {
   "cell_type": "markdown",
   "id": "c9fc5e33",
   "metadata": {},
   "source": [
    "plot(): Pandas plotting wrapper\n",
    "\n",
    "kind: Specifies plot type (line, bar, hist, etc.)\n",
    "\n",
    "plt.figure(): Controls figure size\n",
    "\n",
    "title()/xlabel()/ylabel(): Plot annotations"
   ]
  }
 ],
 "metadata": {
  "kernelspec": {
   "display_name": "Python 3",
   "language": "python",
   "name": "python3"
  },
  "language_info": {
   "codemirror_mode": {
    "name": "ipython",
    "version": 3
   },
   "file_extension": ".py",
   "mimetype": "text/x-python",
   "name": "python",
   "nbconvert_exporter": "python",
   "pygments_lexer": "ipython3",
   "version": "3.12.6"
  }
 },
 "nbformat": 4,
 "nbformat_minor": 5
}
